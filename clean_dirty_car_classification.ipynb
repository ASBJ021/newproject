{
  "nbformat": 4,
  "nbformat_minor": 0,
  "metadata": {
    "colab": {
      "provenance": [],
      "mount_file_id": "1DLz57REeT3fOPjkX1c-YfxoCxQdY-4tv",
      "authorship_tag": "ABX9TyPjwv2ddR2tiTZaeRpLk6ES",
      "include_colab_link": true
    },
    "kernelspec": {
      "name": "python3",
      "display_name": "Python 3"
    },
    "language_info": {
      "name": "python"
    }
  },
  "cells": [
    {
      "cell_type": "markdown",
      "metadata": {
        "id": "view-in-github",
        "colab_type": "text"
      },
      "source": [
        "<a href=\"https://colab.research.google.com/github/ASBJ021/newproject/blob/master/clean_dirty_car_classification.ipynb\" target=\"_parent\"><img src=\"https://colab.research.google.com/assets/colab-badge.svg\" alt=\"Open In Colab\"/></a>"
      ]
    },
    {
      "cell_type": "code",
      "execution_count": null,
      "metadata": {
        "id": "K054zPCCVlRQ"
      },
      "outputs": [],
      "source": [
        "import tensorflow as tf\n",
        "from tensorflow import keras\n",
        "from tensorflow.keras import layers\n",
        "from tensorflow.keras.preprocessing.image import ImageDataGenerator\n",
        "\n",
        "# Define the model architecture\n",
        "model = keras.Sequential([\n",
        "    layers.Conv2D(32, kernel_size=(3, 3), activation=\"relu\", input_shape=(64, 64, 3)),\n",
        "    layers.MaxPooling2D(pool_size=(2, 2)),\n",
        "    layers.Flatten(),\n",
        "    layers.Dense(64, activation=\"relu\"),\n",
        "    layers.Dense(2, activation=\"softmax\")\n",
        "])\n",
        "\n",
        "# Compile the model\n",
        "model.compile(optimizer=\"adam\", loss=\"categorical_crossentropy\", metrics=[\"accuracy\"])\n",
        "\n",
        "# Load and preprocess the dataset\n",
        "train_datagen = ImageDataGenerator(rescale=1.0/255.0, validation_split=0.2)\n",
        "train_generator = train_datagen.flow_from_directory(\n",
        "    \"/content/folder/train\",\n",
        "    target_size=(64, 64),\n",
        "    batch_size=32,\n",
        "    class_mode=\"categorical\",\n",
        "    subset=\"training\"\n",
        ")\n",
        "validation_generator = train_datagen.flow_from_directory(\n",
        "    \"/content/folder/valid\",\n",
        "    target_size=(64, 64),\n",
        "    batch_size=32,\n",
        "    class_mode=\"categorical\",\n",
        "    subset=\"validation\"\n",
        ")\n",
        "\n",
        "# Train the model\n",
        "model.fit(train_generator, validation_data=validation_generator, epochs=10)\n",
        "\n",
        "# Save the trained model\n",
        "model.save(\"/content/model\")\n",
        "\n",
        "\n"
      ]
    },
    {
      "cell_type": "code",
      "source": [
        "!cp -r /content/drive/MyDrive/car-classification/folder   /content"
      ],
      "metadata": {
        "id": "gGgEgdtrW4kh"
      },
      "execution_count": 1,
      "outputs": []
    },
    {
      "cell_type": "code",
      "source": [
        "# Load the saved model\n",
        "loaded_model = tf.keras.models.load_model(\"/content/model\")\n",
        "\n",
        "# Perform real-time inference using the loaded model\n",
        "# Load and preprocess the input image\n",
        "image = tf.keras.preprocessing.image.load_img(\"/content/folder/test/Dirty/8170ffcc-eda4-4981-87f7-8a6dd5877761_jpg.rf.4d6fb379a0f397bb9fe8d90e46afb8ca.jpg\", target_size=(64, 64))\n",
        "input_image = tf.keras.preprocessing.image.img_to_array(image)\n",
        "input_image = input_image / 255.0\n",
        "input_image = tf.expand_dims(input_image, 0)\n",
        "\n",
        "# Perform inference\n",
        "predictions = loaded_model.predict(input_image)\n",
        "print('predictions: ', predictions)\n",
        "class_index = tf.argmax(predictions[0])\n",
        "class_label = class_index.numpy()\n",
        "\n",
        "# Print the predicted class label\n",
        "print(\"Predicted class label:\", class_label)"
      ],
      "metadata": {
        "colab": {
          "base_uri": "https://localhost:8080/"
        },
        "id": "CI44U289X14o",
        "outputId": "3db9d0e3-c45b-4489-9da2-8046e7922dc7"
      },
      "execution_count": 14,
      "outputs": [
        {
          "output_type": "stream",
          "name": "stderr",
          "text": [
            "WARNING:tensorflow:5 out of the last 5 calls to <function Model.make_predict_function.<locals>.predict_function at 0x7f211082a9e0> triggered tf.function retracing. Tracing is expensive and the excessive number of tracings could be due to (1) creating @tf.function repeatedly in a loop, (2) passing tensors with different shapes, (3) passing Python objects instead of tensors. For (1), please define your @tf.function outside of the loop. For (2), @tf.function has reduce_retracing=True option that can avoid unnecessary retracing. For (3), please refer to https://www.tensorflow.org/guide/function#controlling_retracing and https://www.tensorflow.org/api_docs/python/tf/function for  more details.\n"
          ]
        },
        {
          "output_type": "stream",
          "name": "stdout",
          "text": [
            "1/1 [==============================] - 0s 105ms/step\n",
            "predictions:  [[0.29004508 0.70995486]]\n",
            "Predicted class label: 1\n"
          ]
        }
      ]
    },
    {
      "cell_type": "code",
      "source": [
        "import os\n",
        "import csv\n",
        "import tensorflow as tf\n",
        "\n",
        "# Load the saved model\n",
        "loaded_model = tf.keras.models.load_model(\"/content/folder/model\")\n",
        "\n",
        "# Folder path containing the images\n",
        "folder_path = \"/content/folder/test/Clean\"\n",
        "\n",
        "# Create a list to store the results\n",
        "results = []\n",
        "\n",
        "# Iterate over the images in the folder\n",
        "for filename in os.listdir(folder_path):\n",
        "    # Load and preprocess the input image\n",
        "    image_path = os.path.join(folder_path, filename)\n",
        "    image = tf.keras.preprocessing.image.load_img(image_path, target_size=(64, 64))\n",
        "    input_image = tf.keras.preprocessing.image.img_to_array(image)\n",
        "    input_image = input_image / 255.0\n",
        "    input_image = tf.expand_dims(input_image, 0)\n",
        "\n",
        "    # Perform inference\n",
        "    predictions = loaded_model.predict(input_image)\n",
        "    class_index = tf.argmax(predictions[0])\n",
        "    class_label = class_index.numpy()\n",
        "\n",
        "    # Append the result to the results list\n",
        "    result = [image_path, class_label]\n",
        "    results.append(result)\n",
        "\n",
        "# Define the path to save the CSV file\n",
        "csv_file = \"/content/results.csv\"\n",
        "\n",
        "# Save the results to the CSV file\n",
        "with open(csv_file, mode='w', newline='') as file:\n",
        "    writer = csv.writer(file)\n",
        "    writer.writerow([\"Image Path\", \"Class Label\"])  # Write the header\n",
        "    writer.writerows(results)  # Write the data rows\n",
        "\n",
        "print(\"Results saved to:\", csv_file)\n"
      ],
      "metadata": {
        "id": "ifsqAV17hBu-"
      },
      "execution_count": null,
      "outputs": []
    }
  ]
}